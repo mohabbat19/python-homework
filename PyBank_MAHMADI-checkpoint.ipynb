{
 "cells": [
  {
   "cell_type": "code",
   "execution_count": 17,
   "metadata": {},
   "outputs": [
    {
     "name": "stdout",
     "output_type": "stream",
     "text": [
      "..\\Resources\\budget_data.csv\n"
     ]
    }
   ],
   "source": [
    "import os\n",
    "import csv\n",
    "\n",
    "csvpath = os.path.join('..', \"Resources\", 'budget_data.csv')\n",
    "print(csvpath)"
   ]
  },
  {
   "cell_type": "code",
   "execution_count": 25,
   "metadata": {},
   "outputs": [
    {
     "name": "stdout",
     "output_type": "stream",
     "text": [
      "Financial Analysis\n",
      "------------------\n",
      "Total Months 86\n",
      "Net Profit/Loss 38382578.0\n",
      "Average Change -2315.12\n",
      "Greatest Increase In Profits Feb-2012 1926159.0\n",
      "Greatest Decrease In Profits Sep-2013 -2196167.0\n"
     ]
    }
   ],
   "source": [
    "Months = []\n",
    "ProfitLoss = []\n",
    "\n",
    "with open(csvpath, newline=\"\") as csvfile:\n",
    "    csvreader = csv.reader(csvfile, delimiter=\",\")\n",
    "    csv_header = next(csvreader)\n",
    "\n",
    "    for row in csvreader:\n",
    "        Months.append(row[0])\n",
    "        ProfitLoss.append(float(row[1]))\n",
    "\n",
    "counter = 1\n",
    "totalChanges = []\n",
    "while counter < len(ProfitLoss):\n",
    "    delta = ProfitLoss[counter] - ProfitLoss[counter-1]\n",
    "    totalChanges.append(delta)\n",
    "    counter += 1\n",
    "\n",
    "max_change = max(totalChanges)\n",
    "max_index = totalChanges.index(max_change) + 1\n",
    "\n",
    "min_change = min(totalChanges)\n",
    "min_index = totalChanges.index(min_change) + 1\n",
    "\n",
    "\n",
    "print(\"Financial Analysis\")\n",
    "print(\"------------------\")\n",
    "print(\"Total Months \" + str(len(Months)) )\n",
    "print(\"Net Profit/Loss \" + str(sum(ProfitLoss)))\n",
    "print(\"Average Change {0:.2f}\".format(sum(totalChanges)/len(totalChanges)) )\n",
    "print(\"Greatest Increase In Profits {} {}\".format(Months[max_index], max_change))\n",
    "print(\"Greatest Decrease In Profits {} {}\".format(Months[min_index], min_change))"
   ]
  },
  {
   "cell_type": "code",
   "execution_count": null,
   "metadata": {},
   "outputs": [],
   "source": []
  },
  {
   "cell_type": "code",
   "execution_count": null,
   "metadata": {},
   "outputs": [],
   "source": []
  },
  {
   "cell_type": "code",
   "execution_count": null,
   "metadata": {},
   "outputs": [],
   "source": []
  }
 ],
 "metadata": {
  "kernelspec": {
   "display_name": "Python 3",
   "language": "python",
   "name": "python3"
  },
  "language_info": {
   "codemirror_mode": {
    "name": "ipython",
    "version": 3
   },
   "file_extension": ".py",
   "mimetype": "text/x-python",
   "name": "python",
   "nbconvert_exporter": "python",
   "pygments_lexer": "ipython3",
   "version": "3.7.0"
  }
 },
 "nbformat": 4,
 "nbformat_minor": 2
}
